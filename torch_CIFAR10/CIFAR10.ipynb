{
 "cells": [
  {
   "cell_type": "markdown",
   "metadata": {},
   "source": [
    "# pyTorch를 이용하여 CIFAR10 이미지 분류\n",
    "\n",
    "pyTorch를 이용하여 Convolutional Neural Networks를 구현하고 훈련하여 CIFAR10 데이터셋을 분류하는 모델을 만든다.\n",
    "\n",
    "## Step 1. 모듈 임포트\n",
    "\n",
    "* os: 시스템 프로그래밍을 위해(본 예제에서는 경로 설정을 위해 사용함)\n",
    "* numpy: 기본적인 행렬연산\n",
    "* matplotlib: 그래프 플로팅\n",
    "* torch, torchvision: 파이토치 모듈\n",
    "* torchvision.transforms: 데이터 전처리 모듈\n",
    "* torchvision.datasets: 데이터셋 모듈(CIFAR 로드)\n",
    "* torch.nn: 신경망 구현에 필요한 모듈\n",
    "* torch.nn.functional: 신경망에 쓰이는 함수를 포함하는 모듈\n",
    "* torch.optim: optimizer 모듈"
   ]
  },
  {
   "cell_type": "code",
   "execution_count": 1,
   "metadata": {},
   "outputs": [],
   "source": [
    "import os\n",
    "\n",
    "# 기본적인 연산 및 플로팅에 필요한 모듈\n",
    "import numpy as np\n",
    "import matplotlib.pyplot as plt\n",
    "\n",
    "# torch 모듈\n",
    "import torch\n",
    "import torchvision\n",
    "# 데이터셋 관련 모듈\n",
    "import torchvision.transforms as transforms\n",
    "import torchvision.datasets as dset\n",
    "\n",
    "# neural network 모듈\n",
    "import torch.nn as nn\n",
    "import torch.nn.functional as F\n",
    "\n",
    "# optimizer 모듈\n",
    "import torch.optim as optim"
   ]
  },
  {
   "cell_type": "markdown",
   "metadata": {},
   "source": [
    "## Step2: CIFAR10 데이터셋 불러오기\n",
    "\n",
    "### GPU사용과 미니배치\n",
    "\n",
    "* use_gpu: GPU를 쓸수 있는지에 대한 여부 확인\n",
    "* mini_batch_size: 한번에 훈련시킬 미니배치 수\n",
    "\n",
    "### transforms.Compose()\n",
    "\n",
    "데이터를 전처리할 수 있는 시스템.\n",
    "\n",
    "* ToTensor(): numpy.array 또는 PIL 이미지 데이터형을 pytorch.Tensor로 변환\n",
    "* transforms.Normalize((mean),(std)): 데이터 정규화\n",
    "\n",
    "### torchvision.datasets\n",
    "\n",
    "자주 쓰이는 데이터셋을 편하게 가져올 수 있는 모듈. 만약 사용자 임의의 데이터셋을 가져오고 싶으면 dataset class를 따로 형식에 맞게 정의하여 사용한다.(추후에 설명할 예정)\n",
    "\n",
    "* root: 데이터를 저장할 위치\n",
    "* train: True일 시 train set 로드, False일 시 test set 로드\n",
    "* download: 데이터를 웹에서 다운로드 할 지 여부, 이미 원본파일을 넣어놓은 상태면 False로 설정.\n",
    "* tranform: 사용할 전처리 시스템\n",
    "\n",
    "### torch.utils.data.DataLoader\n",
    "\n",
    "가져온 데이터셋을 편하게 쓸 수 있는 iterator개념의 데이터형\n",
    "\n",
    "* dataset: 가져올 데이터셋\n",
    "* batch_size: 한번에 훈련시킬 미니배치 크기\n",
    "* shuffle: 데이터셋을 섞을것인지 여부\n",
    "* num_workers: 데이터를 가져올 때 사용할 sub-process갯수(일반적으로 코어 갯수만큼 할당)\n",
    "* pin_memory: 데이터를 페이지 테이블에 할당할 지에 대한 여부(GPU사용시 쓰는게 좋음)"
   ]
  },
  {
   "cell_type": "code",
   "execution_count": 3,
   "metadata": {},
   "outputs": [],
   "source": [
    "use_GPU = torch.cuda.is_available()\n",
    "mini_batch_size = 128\n",
    "\n",
    "# import torchvision.transforms as transforms\n",
    "# import torchvision.datasets as dset\n",
    "\n",
    "transforms = transforms.Compose(\n",
    "        [transforms.ToTensor(),\n",
    "         transforms.Normalize((0.5, 0.5, 0.5),(0.5, 0.5, 0.5))])\n",
    "\n",
    "trainset = dset.CIFAR10(root='./data', train=True,\n",
    "                        download=False, transform=transforms)\n",
    "trainloader = torch.utils.data.DataLoader(trainset,\n",
    "                                          batch_size=mini_batch_size,\n",
    "                                          shuffle=True,\n",
    "                                          num_workers=2,\n",
    "                                          pin_memory=False)\n",
    "\n",
    "testset = dset.CIFAR10(root='./data', train=False,\n",
    "                       download=False, transform=transforms)\n",
    "testloader = torch.utils.data.DataLoader(testset,\n",
    "                                         batch_size=mini_batch_size,\n",
    "                                         shuffle=False,\n",
    "                                         num_workers=2,\n",
    "                                         pin_memory=False\n",
    "                                        )\n",
    "\n",
    "classes = ('plane', 'car', 'bird', 'cat', 'deer', 'dog', 'frog', 'horse',\n",
    "           'ship', 'truck')"
   ]
  },
  {
   "cell_type": "code",
   "execution_count": 4,
   "metadata": {},
   "outputs": [
    {
     "name": "stdout",
     "output_type": "stream",
     "text": [
      "Dataset CIFAR10\n",
      "    Number of datapoints: 50000\n",
      "    Root location: ./data\n",
      "    Split: Train\n",
      "    StandardTransform\n",
      "Transform: Compose(\n",
      "               ToTensor()\n",
      "               Normalize(mean=(0.5, 0.5, 0.5), std=(0.5, 0.5, 0.5))\n",
      "           )\n",
      "Dataset CIFAR10\n",
      "    Number of datapoints: 10000\n",
      "    Root location: ./data\n",
      "    Split: Test\n",
      "    StandardTransform\n",
      "Transform: Compose(\n",
      "               ToTensor()\n",
      "               Normalize(mean=(0.5, 0.5, 0.5), std=(0.5, 0.5, 0.5))\n",
      "           )\n"
     ]
    }
   ],
   "source": [
    "print(trainset)\n",
    "print(testset)"
   ]
  },
  {
   "cell_type": "markdown",
   "metadata": {},
   "source": [
    "## 데이터 시각화\n",
    "\n",
    "데이터의 원본은 PIL이미지 형태임. iter함수를 이용하여 training set의 데이터를 랜덤으로 가져와서 특정 몇 장을 출력하도록 함\n",
    "\n",
    "### imshow_CIFAR() 함수\n",
    "\n",
    "데이터셋의 내용(사진)을 출력해주는 함수. 데이터셋의 정규화를 해제하고 파이토치 Tensor를 numpy array로 바꾼 후 matplotlib을 이용하여 사진을 출력해준다.\n",
    "\n",
    "### iter()\n",
    "\n",
    "객체에 내장된 \\_\\_iter\\_\\_() 메소드를 호출해준다. DataLoader()의 이터레이터는 데이터를 순회하며 mini batch 사이즈의 data와 label을 꺼내 온다.(img.size(), label.size() 참고) "
   ]
  },
  {
   "cell_type": "code",
   "execution_count": 5,
   "metadata": {},
   "outputs": [],
   "source": [
    "def imshow_CIFAR(img):\n",
    "    img = img*0.5 + 0.5 # normalize 해제\n",
    "    img_np = img.numpy() # numpy배열로 변경\n",
    "    plt.figure(figsize=(8,8))\n",
    "    plt.axis('off')\n",
    "    plt.imshow(np.transpose(img_np, (1, 2, 0)))\n",
    "    # 형태를 배치 x 가로 x 세로 => 가로 x 세로 x 배치 형태로 전환\n",
    "    plt.show"
   ]
  },
  {
   "cell_type": "code",
   "execution_count": 6,
   "metadata": {},
   "outputs": [
    {
     "name": "stdout",
     "output_type": "stream",
     "text": [
      "torch.Size([128, 3, 32, 32])\n",
      "torch.Size([128])\n"
     ]
    }
   ],
   "source": [
    "# 무작위로 training data의 한 배치를 가져옴\n",
    "data_iter = iter(trainloader)\n",
    "img, label = data_iter.next()\n",
    "\n",
    "print(img.size())\n",
    "print(label.size())"
   ]
  },
  {
   "cell_type": "code",
   "execution_count": 8,
   "metadata": {},
   "outputs": [
    {
     "name": "stdout",
     "output_type": "stream",
     "text": [
      "dog bird plane deer truck\n"
     ]
    },
    {
     "data": {
      "image/png": "[encoded data removed]",
      "text/plain": [
       "<Figure size 576x576 with 1 Axes>"
      ]
     },
     "metadata": {
      "needs_background": "light"
     },
     "output_type": "display_data"
    }
   ],
   "source": [
    "# 샘플 이미지 5장 출력\n",
    "img = img[0:5, :, :, :]\n",
    "imshow_CIFAR(torchvision.utils.make_grid(img))\n",
    "disp_label = f'{classes[label[0]]} {classes[label[1]]} {classes[label[2]]} \\\n",
    "{classes[label[3]]} {classes[label[4]]}'\n",
    "print(disp_label)"
   ]
  },
  {
   "cell_type": "markdown",
   "metadata": {},
   "source": [
    "## Step3: Convolutional Neural Networks 정의\n",
    "\n",
    "### 3채널 이미지 처리\n",
    "\n",
    "input_channel을 3으로 주고 RGB이미지를 처리할 수 있도록 한다.\n",
    "\n",
    "#### 예제에서 나온 인공신경망(약 60%정도 정확도)\n",
    "\n",
    "* input image size: 3 x 32 x 32\n",
    "* conv층 1: kernel size: 5, kernel depth: 6 => 6 x 28 x 28\n",
    "* max_pool층 1: kernel size: 2, stride: 2 => 6 x 14 x 14\n",
    "* conv층 2: kernel size: 5, kernel depth: 16 => 16 x 10 x 10\n",
    "* max_pool층 2: kernel size: 2, stride: 2 => 16 x 5 x 5\n",
    "* fc층 1: input size: 16 * 5 * 5, output size: 120\n",
    "* fc층 2: input size: 120, output size: 84\n",
    "* fc층 3: input size: 84, output size: 10(!!class 수와 동일해야함)\n",
    "\n",
    "#### 개선한 인공신경망\n",
    "\n",
    "신경망을 더 깊게 하고 각 층 사이에 batch normalization 층을 추가함\n",
    "\n",
    "* input image size: 3 x 32 x 32\n",
    "* conv1: K=7, padding=3, out_channel=24 => 24 x 32 x 32\n",
    "* conv2: K=7, padding=3, out_channel=48 => 48 x 32 x 32\n",
    "* max_pool1: K=2, stride=2 => 48 x 16 x 16\n",
    "* conv3: K=7, padding=3, out_channel=96 => 96 x 16 x 16\n",
    "* conv4: K=7, padding=3, out_channel=192 => 192 x 16 x 16\n",
    "* conv5: K=7, padding=3, out_channel=256 => 256 x 16 x 16\n",
    "* max_pool2: K=2, stride=2 => 64 x 8 x 8\n",
    "* conv6: K=5, padding=2, out_channel=480 => 480 x 8 x 8\n",
    "* conv7: K=5, padding=2, out_channel=512 => 512 x 8 x 8\n",
    "* fc1: output=1024\n",
    "* fc2: output=512\n",
    "* fc3: output=256\n",
    "* fc4: output=64\n",
    "* fc5: output=10"
   ]
  },
  {
   "cell_type": "code",
   "execution_count": 17,
   "metadata": {},
   "outputs": [],
   "source": [
    "class Net(nn.Module):\n",
    "    def __init__(self):\n",
    "        super(Net, self).__init__()\n",
    "        self.conv1 = nn.Conv2d(3, 24, 7, padding=3)\n",
    "        self.bnorm1 = nn.BatchNorm2d(24)\n",
    "        self.conv2 = nn.Conv2d(24, 48, 7, padding=3)\n",
    "        self.bnorm2 = nn.BatchNorm2d(48)\n",
    "        self.pool = nn.MaxPool2d(2, 2)\n",
    "        self.conv3 = nn.Conv2d(48, 96, 7, padding=3)\n",
    "        self.bnorm3 = nn.BatchNorm2d(96)\n",
    "        self.conv4 = nn.Conv2d(96, 192, 7, padding=3)\n",
    "        self.bnorm4 = nn.BatchNorm2d(192)\n",
    "        self.conv5 = nn.Conv2d(192, 256, 7, padding=3)\n",
    "        self.bnorm5 = nn.BatchNorm2d(256)\n",
    "        self.conv6 = nn.Conv2d(256, 480, 5, padding=2)\n",
    "        self.bnorm6 = nn.BatchNorm2d(480)\n",
    "        self.conv7 = nn.Conv2d(480, 512, 5, padding=2)\n",
    "        self.bnorm7 = nn.BatchNorm2d(512)\n",
    "        self.fc1 = nn.Linear(512*8*8, 1024)\n",
    "        self.bnorm8 = nn.BatchNorm1d(1024)\n",
    "        self.fc2 = nn.Linear(1024, 512)\n",
    "        self.bnorm9 = nn.BatchNorm1d(512)\n",
    "        self.fc3 = nn.Linear(512, 256)\n",
    "        self.bnorm10 = nn.BatchNorm1d(256)\n",
    "        self.fc4 = nn.Linear(256, 64)\n",
    "        self.bnorm11 = nn.BatchNorm1d(64)\n",
    "        self.fc5 = nn.Linear(64, 10)\n",
    "    \n",
    "    def forward(self, x):\n",
    "        x = F.relu(self.conv1(x))\n",
    "        x = self.bnorm1(x)\n",
    "        x = self.pool(F.relu(self.conv2(x)))\n",
    "        x = self.bnorm2(x)\n",
    "        x = F.relu(self.conv3(x))\n",
    "        x = self.bnorm3(x)\n",
    "        x = F.relu(self.conv4(x))\n",
    "        x = self.bnorm4(x)\n",
    "        x = self.pool(F.relu(self.conv5(x)))\n",
    "        x = self.bnorm5(x)\n",
    "        x = F.relu(self.conv6(x))\n",
    "        x = self.bnorm6(x)\n",
    "        x = F.relu(self.conv7(x))\n",
    "        x = self.bnorm7(x)\n",
    "        x = x.view(-1, 512*8*8)\n",
    "        x = F.relu(self.fc1(x))\n",
    "        x = self.bnorm8(x)\n",
    "        x = F.relu(self.fc2(x))\n",
    "        x = self.bnorm9(x)\n",
    "        x = F.relu(self.fc3(x))\n",
    "        x = self.bnorm10(x)\n",
    "        x = F.relu(self.fc4(x))\n",
    "        x = self.bnorm11(x)\n",
    "        x = self.fc5(x)\n",
    "        return x"
   ]
  },
  {
   "cell_type": "markdown",
   "metadata": {},
   "source": [
    "## Step 4. 모델 생성, 출력층 함수 정의, optimizer 정의\n",
    "\n",
    "### 모델 생성\n",
    "\n",
    "step 3에서 정의한 모델을 생성한다. GPU를 이용하는 경우 .cuda()메소드를 통해 모델을 바꿔줘야 한다.\n",
    "\n",
    "* torch.cuda.is_available()을 통해 cuda가 사용 가능한지 확인한다.\n",
    "\n",
    "### 출력층 함수\n",
    "\n",
    "일반적으로 회귀 문제의 경우 항등 함수(identity funciton)을 출력층 함수로 사용한다. 이진 분류(binary classification)의 경우 BCELoss를 출력층 함수로 사용한다. 다중 분류 문제의 경우 softmax function을 출력층 함수로 사용하고, cross entrophy function을 loss function으로 사용한다. CIFAR-10은 다중 분류 문제이기 때문에 softmax - cross entrophy loss function을 사용한다.\n",
    "\n",
    "### optimizer\n",
    "\n",
    "가장 최근에 나온 optimizer인 Adam optimizer를 사용한다.\n",
    "\n",
    "사용할 수 있는 최적화 기법 예시(Docs를 참고하면 더 심화된 최적화 기법도 사용가능)\n",
    "\n",
    "* SGD\n",
    "* Momentum\n",
    "* Nesterov Momentum\n",
    "* Adagrad\n",
    "* Adam\n",
    "* RMSprop"
   ]
  },
  {
   "cell_type": "code",
   "execution_count": 18,
   "metadata": {},
   "outputs": [],
   "source": [
    "model = Net()\n",
    "\n",
    "if use_GPU:\n",
    "    model = model.cuda()\n",
    "    \n",
    "criterion = nn.CrossEntropyLoss()\n",
    "optimizer = optim.Adam(model.parameters())"
   ]
  },
  {
   "cell_type": "markdown",
   "metadata": {},
   "source": [
    "## Step 5. 신경망 훈련\n",
    "\n",
    "생성한 신경망을 훈련한다. 각 epoch마다 test loss 및 training loss를 기록하고 모델을 저장한다.\n",
    "\n",
    "* GPU사용: model, input data, label을 .cuda()메소드를 이용하여 변환해줘야 GPU를 사용하여 연산을 진행함.\n",
    "* optimizer.zero_grad(): 훈련 시작 이전에 전에 계산한 그래디언트를 초기화시켜야 함\n",
    "* loss.backward(): 역전파 알고리즘 실행\n",
    "* optimizer.step(): 그래디언트 갱신\n",
    "* torch.save(): 모델 저장\n",
    "\n",
    "### 모델 저장\n",
    "\n",
    "만약 각 epoch에 해당하는 모델을 저장해 놓고 최적의 모델을 찾아서 쓰고 싶은 경우 torch.save()를 이용한다. torch.save()의 결과는 사용자가 지정한 디렉터리 내부에 저장된다."
   ]
  },
  {
   "cell_type": "code",
   "execution_count": 9,
   "metadata": {},
   "outputs": [],
   "source": [
    "from math import ceil\n",
    "\n",
    "epochs_num = 10\n",
    "epochs_per_iter_train = ceil(50000 / mini_batch_size)\n",
    "epochs_per_iter_test = ceil(10000 / mini_batch_size)"
   ]
  },
  {
   "cell_type": "code",
   "execution_count": 19,
   "metadata": {
    "scrolled": true
   },
   "outputs": [
    {
     "name": "stdout",
     "output_type": "stream",
     "text": [
      "epochs 1: tr_loss=1.486105594482422, test_loss=1.189016146850586\n",
      "epochs 2: tr_loss=1.0144872616577147, test_loss=0.917370637512207\n",
      "epochs 3: tr_loss=0.7896917605590821, test_loss=0.7719600685119629\n",
      "epochs 4: tr_loss=0.6473466975402832, test_loss=0.6730734130859375\n",
      "epochs 5: tr_loss=0.5347230210113525, test_loss=0.6270055213928223\n",
      "epochs 6: tr_loss=0.44726434158325196, test_loss=0.6180935024261475\n",
      "epochs 7: tr_loss=0.3617545763778687, test_loss=0.6059476890563965\n",
      "epochs 8: tr_loss=0.2931663357925415, test_loss=0.595866215133667\n",
      "epochs 9: tr_loss=0.2448773399734497, test_loss=0.6218734779357911\n",
      "epochs 10: tr_loss=0.19251313181877136, test_loss=0.6427758514404297\n",
      "Finished Training\n"
     ]
    }
   ],
   "source": [
    "for epoch in range(epochs_num):\n",
    "    \n",
    "    running_loss_train = 0.0\n",
    "    running_loss_test = 0.0\n",
    "    \n",
    "    for i, data in enumerate(trainloader, 0):\n",
    "        inputs, labels = data\n",
    "        if use_GPU:\n",
    "            inputs, labels = inputs.cuda(), labels.cuda()\n",
    "        \n",
    "        optimizer.zero_grad()\n",
    "        \n",
    "        outputs = model.forward(inputs)\n",
    "        loss = criterion(outputs, labels)\n",
    "        loss.backward()\n",
    "        optimizer.step()\n",
    "        running_loss_train += loss.item()\n",
    "        \n",
    "    for i, data in enumerate(testloader, 0):\n",
    "        inputs, labels = data\n",
    "        if use_GPU:\n",
    "            inputs, labels = inputs.cuda(), labels.cuda()\n",
    "        \n",
    "        outputs = model.forward(inputs)\n",
    "        loss = criterion(outputs, labels)\n",
    "        running_loss_test += loss.item()\n",
    "        \n",
    "    torch.save(model.state_dict(), os.path.join('./model', 'epoch-{}.pt'.format(epoch)))\n",
    "    running_loss_train_avg = running_loss_train / epochs_per_iter_train\n",
    "    running_loss_test_avg = running_loss_test / epochs_per_iter_test\n",
    "    outstr = f'epochs {epoch+1}: tr_loss={running_loss_train_avg}, test_loss={running_loss_test_avg}'\n",
    "    print(outstr)\n",
    "\n",
    "print('Finished Training')"
   ]
  },
  {
   "cell_type": "code",
   "execution_count": 117,
   "metadata": {},
   "outputs": [],
   "source": [
    "dataiter = iter(testloader)\n",
    "img, labels = dataiter.next()"
   ]
  },
  {
   "cell_type": "code",
   "execution_count": 118,
   "metadata": {},
   "outputs": [
    {
     "name": "stdout",
     "output_type": "stream",
     "text": [
      "ground truth: frog cat car plane\n"
     ]
    },
    {
     "data": {
      "image/png": "[encoded data removed]",
      "text/plain": [
       "<Figure size 432x288 with 1 Axes>"
      ]
     },
     "metadata": {
      "needs_background": "light"
     },
     "output_type": "display_data"
    }
   ],
   "source": [
    "img = img[7:11, :,:,:]\n",
    "labels = labels[7:11]\n",
    "\n",
    "imshow_CIFAR(torchvision.utils.make_grid(img))\n",
    "outstr = f'ground truth: {classes[labels[0]]} {classes[labels[1]]} {classes[labels[2]]} {classes[labels[3]]}'\n",
    "print(outstr)"
   ]
  },
  {
   "cell_type": "code",
   "execution_count": 119,
   "metadata": {},
   "outputs": [
    {
     "name": "stdout",
     "output_type": "stream",
     "text": [
      "estimate: frog cat truck plane\n"
     ]
    }
   ],
   "source": [
    "img = img.cuda()\n",
    "outputs = model(img)\n",
    "_, pred = torch.max(outputs, 1)\n",
    "outstr = f'estimate: {classes[pred[0]]} {classes[pred[1]]} {classes[pred[2]]} {classes[pred[3]]}'\n",
    "print(outstr)"
   ]
  },
  {
   "cell_type": "markdown",
   "metadata": {},
   "source": [
    "## Step 6. 정확도 측정\n",
    "\n",
    "최종 test accuracy를 측정한다.\n",
    "\n",
    "### Model 불러오기\n",
    "\n",
    "torch.save로 저장한 model은 model 자체가 아니라 모델 내부의 파라미터를 저장하는 구조체이다. 모델을 완전히 불러오기 위해 먼저 model을 정의하고 정의한 모델의 파라미터를 torch.save에서 저장한 파일에 있는 파라미터로 바꾼다.\n",
    "\n",
    "### evaluation mode\n",
    "\n",
    "훈련 이후에 모델을 평가할 때는 model.eval()을 이용하여 모델의 옵션을 바꿔 줘야 한다. eval mode의 모델은 dropout, batch normalization 옵션이 비활성화된다.\n",
    "\n",
    "### accuracy 평가\n",
    "\n",
    "test set을 for문으로 순회하면서 정확도를 평가한다. 별도로 정확도를 바로 평가해주는 함수는 pyTorch에서 제공하지 않는다."
   ]
  },
  {
   "cell_type": "code",
   "execution_count": 21,
   "metadata": {},
   "outputs": [
    {
     "name": "stdout",
     "output_type": "stream",
     "text": [
      "test accuracy : 0.8254\n"
     ]
    }
   ],
   "source": [
    "model_opt = Net()\n",
    "model_opt.load_state_dict(torch.load('./model/epoch-7.pt'))\n",
    "model_opt = model_opt.eval()\n",
    "\n",
    "if use_GPU:\n",
    "    model_opt = model_opt.cuda()\n",
    "\n",
    "correct = 0\n",
    "total = 0\n",
    "\n",
    "for data in testloader:\n",
    "    img, labels = data\n",
    "    if use_GPU:\n",
    "        img, labels = img.cuda(), labels.cuda()\n",
    "        \n",
    "    outputs = model_opt(img)\n",
    "    _, pred = torch.max(outputs, 1)\n",
    "    total += labels.size(0)\n",
    "    correct += (pred == labels).sum().item()\n",
    "\n",
    "outstr = f'test accuracy : {correct / total}'\n",
    "print(outstr)"
   ]
  }
 ],
 "metadata": {
  "kernelspec": {
   "display_name": "Python 3",
   "language": "python",
   "name": "python3"
  },
  "language_info": {
   "codemirror_mode": {
    "name": "ipython",
    "version": 3
   },
   "file_extension": ".py",
   "mimetype": "text/x-python",
   "name": "python",
   "nbconvert_exporter": "python",
   "pygments_lexer": "ipython3",
   "version": "3.7.3"
  }
 },
 "nbformat": 4,
 "nbformat_minor": 2
}
